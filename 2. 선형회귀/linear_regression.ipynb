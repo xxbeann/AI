{
 "cells": [
  {
   "cell_type": "code",
   "execution_count": 1,
   "metadata": {},
   "outputs": [],
   "source": [
    "import numpy as np\n",
    "import matplotlib.pyplot as plt\n",
    "from sklearn.linear_model import LinearRegression\n",
    "from sklearn.metrics import mean_squared_error\n",
    "from sklearn.preprocessing import PolynomialFeatures"
   ]
  },
  {
   "cell_type": "code",
   "execution_count": null,
   "metadata": {},
   "outputs": [],
   "source": [
    "np.random.seed(187160) # 본인 학번 이용\n",
    "\n",
    "x1 = np.linspace(0,1,11)\n",
    "x2 = np.linspace(0+0.05,1+0.05,11)\n",
    "\n",
    "print(\"x1:\",x1)\n",
    "print(\"x2:\",x2)\n",
    "\n",
    "t1 = np.sin(2*np.pi*2*x1) + np.exp(x1*1.2) + 1*np.random.rand(11)\n",
    "t2 = np.sin(2*np.pi*2*x2) + np.exp(x2*1.2) + 1*np.random.rand(11)\n",
    "\n",
    "print(\"t1:\",t1)\n",
    "print(\"t2:\",t2)\n",
    "\n",
    "plt.plot(x1,t1,'ro')\n",
    "plt.plot(x2,t2,'bo')\n",
    "plt.show()"
   ]
  },
  {
   "cell_type": "code",
   "execution_count": null,
   "metadata": {},
   "outputs": [],
   "source": [
    "# Xtrain = x1.copy() \n",
    "Xtrain = x1.reshape(-1,1).copy()\n",
    "ytrain = t1.copy()\n",
    "\n",
    "model = LinearRegression(fit_intercept=True)\n",
    "model.fit(Xtrain,ytrain)\n",
    "\n",
    "ptrain = model.predict(Xtrain)\n",
    "\n",
    "# msetrain = np.mean(np.power(ptrain-ytrain,2))\n",
    "msetrain = mean_squared_error(ytrain, ptrain)\n",
    "\n",
    "plt.plot(x1,ptrain,'mo-')\n",
    "plt.plot(x1,t1,'ro')\n",
    "plt.title(\"train result\")\n",
    "plt.show()\n",
    "\n",
    "print('coef:', model.coef_)\n",
    "print('intercept:', model.intercept_)\n",
    "\n",
    "print('y train:', ytrain)\n",
    "print('pred train:',ptrain)\n",
    "print(\"train mse:\", msetrain)"
   ]
  },
  {
   "cell_type": "code",
   "execution_count": null,
   "metadata": {},
   "outputs": [],
   "source": [
    "## test\n",
    "Xtest = x2.reshape(-1,1).copy()\n",
    "ytest = t2.copy()\n",
    "\n",
    "ptest = model.predict(Xtest)\n",
    "\n",
    "plt.plot(x2,ptest,'co-')\n",
    "plt.plot(x2,t2,'bo')\n",
    "plt.title(\"test result\")\n",
    "plt.show()\n",
    "\n",
    "msetest = mean_squared_error(ytest, ptest)\n",
    "print(\"test mse:\", msetest)"
   ]
  },
  {
   "cell_type": "code",
   "execution_count": null,
   "metadata": {},
   "outputs": [],
   "source": [
    "from sklearn.linear_model import SGDRegressor\n",
    " \n",
    "Xtrain = x1.reshape(-1,1).copy()\n",
    "ytrain = t1.copy()\n",
    "\n",
    "model = SGDRegressor(loss=\"squared_error\", \n",
    "                     penalty=None, \n",
    "                     fit_intercept=True, \n",
    "                     max_iter=100, \n",
    "                     tol=None,\n",
    "                     learning_rate='constant',\n",
    "                     eta0=0.01,\n",
    "                     verbose=0,\n",
    "                     random_state=187160 # 본인학번으로 변경\n",
    ")\n",
    "\n",
    "model.fit(Xtrain,ytrain)\n",
    "\n",
    "ptrain = model.predict(Xtrain)\n",
    "\n",
    "msetrain = mean_squared_error(ytrain, ptrain)\n",
    "\n",
    "plt.plot(x1,ptrain,'mo-')\n",
    "plt.plot(x1,t1,'ro')\n",
    "plt.title(\"train result\")\n",
    "plt.show()\n",
    "\n",
    "print('coef:', model.coef_)\n",
    "print('intercept:', model.intercept_)\n",
    "\n",
    "print('y train:', ytrain)\n",
    "print('pred train:',ptrain)\n",
    "print(\"train mse:\", msetrain)\n",
    "\n",
    "## test\n",
    "Xtest = x2.reshape(-1,1).copy()\n",
    "ytest = t2.copy()\n",
    "\n",
    "ptest = model.predict(Xtest)\n",
    "\n",
    "plt.plot(x2,ptest,'co-')\n",
    "plt.plot(x2,t2,'bo')\n",
    "plt.title(\"test result\")\n",
    "plt.show()\n",
    "\n",
    "msetest = mean_squared_error(ytest, ptest)\n",
    "print(\"test mse:\", msetest)"
   ]
  },
  {
   "cell_type": "code",
   "execution_count": null,
   "metadata": {},
   "outputs": [],
   "source": [
    "## x를 polynomial하게 변경하는 방법\n",
    "Xtrain = PolynomialFeatures(3,interaction_only=False, include_bias=False).fit_transform( x1.reshape(-1,1) )\n",
    "print(Xtrain)\n",
    "\n",
    "# 위 방법으로 Xtrain, Xtest, ytrain, ytest 를 준비해서 LinearRegression을 해보세요.\n",
    "# Xtrain = PolynomialFeatures(3,interaction_only=False, include_bias=False).fit_transform( x1.reshape(-1,1) )\n",
    "# ytrain = t1.copy()\n",
    "\n",
    "# Xtest = PolynomialFeatures(3,interaction_only=False, include_bias=False).fit_transform( x2.reshape(-1,1) )\n",
    "# ytest = t2.copy()"
   ]
  }
 ],
 "metadata": {
  "kernelspec": {
   "display_name": "lecture",
   "language": "python",
   "name": "python3"
  },
  "language_info": {
   "codemirror_mode": {
    "name": "ipython",
    "version": 3
   },
   "file_extension": ".py",
   "mimetype": "text/x-python",
   "name": "python",
   "nbconvert_exporter": "python",
   "pygments_lexer": "ipython3",
   "version": "3.12.2"
  },
  "orig_nbformat": 4
 },
 "nbformat": 4,
 "nbformat_minor": 2
}
